{
 "cells": [
  {
   "cell_type": "markdown",
   "metadata": {},
   "source": [
    "1. Faça um Programa que peça dois números e imprima o maior deles."
   ]
  },
  {
   "cell_type": "code",
   "execution_count": 3,
   "metadata": {},
   "outputs": [
    {
     "data": {
      "text/plain": [
       "[1.0, 2.0]"
      ]
     },
     "execution_count": 3,
     "metadata": {},
     "output_type": "execute_result"
    }
   ],
   "source": [
    "user_input = input(\"Entre seus numeros separados por virgula \")\n",
    "\n",
    "input_list = user_input.split(',')\n",
    "numbers = [float(x.strip()) for x in input_list]\n",
    "\n",
    "if numbers[0]>numbers[1]:\n",
    "    print(numbers[0])\n",
    "else:\n",
    "    print(numbers[1])"
   ]
  },
  {
   "cell_type": "code",
   "execution_count": null,
   "metadata": {},
   "outputs": [],
   "source": []
  },
  {
   "cell_type": "markdown",
   "metadata": {},
   "source": [
    "2. Faça um Programa que verifique se uma letra digitada é vogal ou consoante."
   ]
  },
  {
   "cell_type": "code",
   "execution_count": 5,
   "metadata": {},
   "outputs": [
    {
     "data": {
      "text/plain": [
       "True"
      ]
     },
     "execution_count": 5,
     "metadata": {},
     "output_type": "execute_result"
    }
   ],
   "source": [
    "def vogal(x):\n",
    "    if x == \"a\" or x == \"e\" or x == \"i\" or x == \"o\" or x == \"u\" or x== \"A\" or x == \"E\" or x == \"I\" or x == \"O\" or x == \"U\":\n",
    "        return True\n",
    "    else:\n",
    "        return False\n",
    "    \n",
    "vogal(\"a\")"
   ]
  },
  {
   "cell_type": "markdown",
   "metadata": {},
   "source": [
    " 3: Faça um programa para a leitura de duas notas parciais de um aluno. O programa\n",
    "deve calcular a média alcançada por aluno e apresentar:\n",
    "- A mensagem \"Aprovado\", se a média alcançada for maior ou igual a sete;\n",
    "- A mensagem \"Reprovado\", se a média for menor do que sete;\n",
    "- A mensagem \"Aprovado com Distinção\", se a média for igual a dez."
   ]
  },
  {
   "cell_type": "code",
   "execution_count": 22,
   "metadata": {},
   "outputs": [],
   "source": [
    "def ler_nota(num1,num2):\n",
    "    media = (num1+num2)/2\n",
    "    print(media)\n",
    "    \n",
    "    if media==10.0:\n",
    "        print(\"Aprovado com distinção\")\n",
    "    elif media >=7:\n",
    "        print(\"Aprovado\")   \n",
    "    else:\n",
    "        print(\"Reprovado\")"
   ]
  },
  {
   "cell_type": "code",
   "execution_count": 24,
   "metadata": {},
   "outputs": [
    {
     "name": "stdout",
     "output_type": "stream",
     "text": [
      "7.0\n",
      "Aprovado\n"
     ]
    }
   ],
   "source": [
    "ler_nota(7,7)"
   ]
  },
  {
   "cell_type": "markdown",
   "metadata": {},
   "source": [
    "4: Faça um Programa que leia três números e mostre-os em ordem decrescente."
   ]
  },
  {
   "cell_type": "code",
   "execution_count": 56,
   "metadata": {},
   "outputs": [],
   "source": [
    "def ordenar (num1,num2,num3):\n",
    "    if num1>=num2 and num1>=num3:\n",
    "        print(num1)\n",
    "        if num2>=num3:\n",
    "            print(num2)\n",
    "            print(num3)\n",
    "        else: \n",
    "            print(num3)\n",
    "            print(num2)\n",
    "            return\n",
    "    if num2>=num1 and num2>=num3:\n",
    "        print(num2)\n",
    "        if num1>=num3:\n",
    "            print(num1)\n",
    "            print(num3)\n",
    "        else: \n",
    "            print(num3)\n",
    "            print(num1)\n",
    "            return\n",
    "    if num3>=num1 and num3>=num3:\n",
    "        print(num3)\n",
    "        if num1>=num2:\n",
    "            print(num1)\n",
    "            print(num2)\n",
    "        else: \n",
    "            print(num2)\n",
    "            print(num1)\n",
    "            return\n",
    "        "
   ]
  },
  {
   "cell_type": "code",
   "execution_count": 57,
   "metadata": {},
   "outputs": [
    {
     "name": "stdout",
     "output_type": "stream",
     "text": [
      "3\n",
      "2\n",
      "1\n"
     ]
    }
   ],
   "source": [
    "ordenar(1,3,2)"
   ]
  },
  {
   "cell_type": "markdown",
   "metadata": {},
   "source": [
    "5: As Organizações Tabajara resolveram dar um aumento de salário aos seus\n",
    "colaboradores e lhe contrataram para desenvolver o programa que calculará os\n",
    "reajustes.\n",
    "Faça um programa que recebe o salário de um colaborador e o reajuste segundo o\n",
    "seguinte critério, baseado no salário atual:\n",
    "- salários até R$ 280,00 (incluindo) : aumento de 20%\n",
    "- salários entre R$ 280,00 e R$ 700,00 : aumento de 15%\n",
    "- salários entre R$ 700,00 e R$ 1500,00 : aumento de 10%\n",
    "- salários de R$ 1500,00 em diante : aumento de 5% Após o aumento ser realizado,\n",
    "informe na tela:\n",
    "- o salário antes do reajuste;\n",
    "- o percentual de aumento aplicado;\n",
    "- o valor do aumento;\n",
    "- o novo salário, após o aumento."
   ]
  },
  {
   "cell_type": "code",
   "execution_count": 142,
   "metadata": {},
   "outputs": [],
   "source": [
    "def salario(sal):\n",
    "    \n",
    "   \n",
    "    if sal <=280:\n",
    "        print(\"Salario antes do reajuste %d\" %sal)\n",
    "        print(\"Porcentagem 20\")\n",
    "        sal = sal*1.20\n",
    "        print(\"Salario com aumento %d\" %sal)\n",
    "\n",
    "        \n",
    "    elif sal<=700 and sal > 280:\n",
    "        print(\"Salario antes do reajuste %d\" %sal)\n",
    "        print(\"Porcentagem 15\")\n",
    "        sal = sal*1.15\n",
    "        print(\"Salario com aumento %d\" %sal)\n",
    "        \n",
    "    elif sal >700 and sal < 1500:\n",
    "        print(\"Salario antes do reajuste %d\" %sal)\n",
    "        print(\"Porcentagem 10\")\n",
    "        sal = sal*1.10\n",
    "        print(\"Salario com aumento %d\" %sal)    \n",
    "        \n",
    "        \n",
    "    \n",
    "         \n",
    "    elif sal>=1500:\n",
    "        print(\"Salario antes do reajuste %d\" %sal)\n",
    "        print(\"Porcentagem 5\")\n",
    "        sal = sal*1.05\n",
    "        print(\"Salario com aumento %d\" %sal)\n",
    "   "
   ]
  },
  {
   "cell_type": "code",
   "execution_count": 143,
   "metadata": {},
   "outputs": [
    {
     "name": "stdout",
     "output_type": "stream",
     "text": [
      "Salario antes do reajuste 1500\n",
      "Porcentagem 5\n",
      "Salario com aumento 1575\n"
     ]
    }
   ],
   "source": [
    "salario(1500)"
   ]
  },
  {
   "cell_type": "markdown",
   "metadata": {},
   "source": [
    "6: Faça um Programa que leia um número e exiba o dia correspondente da semana.\n",
    "(1-Domingo, 2- Segunda, etc.), se digitar outro valor deve aparecer valor inválido."
   ]
  },
  {
   "cell_type": "code",
   "execution_count": 158,
   "metadata": {},
   "outputs": [],
   "source": [
    "def dia(dia):\n",
    "    if dia == \"Segunda\".lower():\n",
    "        print(\"Segunda\")\n",
    "    elif dia == \"terça\".lower():\n",
    "        print(\"Terça\")\n",
    "    elif dia == \"Quarta\".lower():\n",
    "        print('Quarta')\n",
    "    elif dia == \"Quinta\".lower():\n",
    "        print('Quinta')\n",
    "    elif dia == \"Sexta\".lower():\n",
    "        print('Sexta')\n",
    "    elif dia == \"Sabado\".lower():\n",
    "        print('Sabado')\n",
    "    elif dia == \"Domingo\".lower():\n",
    "        print('Domingo')"
   ]
  },
  {
   "cell_type": "code",
   "execution_count": 160,
   "metadata": {},
   "outputs": [
    {
     "name": "stdout",
     "output_type": "stream",
     "text": [
      "Sabado\n"
     ]
    }
   ],
   "source": [
    "dia(\"sabado\")"
   ]
  },
  {
   "cell_type": "markdown",
   "metadata": {},
   "source": [
    "7: Faça um programa que lê as duas notas parciais obtidas por um aluno numa\n",
    "disciplina ao longo de um semestre, e calcule a sua média. A atribuição de conceitos\n",
    "obedece à tabela abaixo:\n",
    " Média de Aproveitamento Conceito\n",
    " Entre 9.0 e 10.0 A\n",
    " Entre 7.5 e 9.0 B\n",
    " Entre 6.0 e 7.5 C\n",
    " Entre 4.0 e 6.0 D\n",
    " Entre 4.0 e zero E\n",
    "O algoritmo deve mostrar na tela as notas, a média, o conceito correspondente e a\n",
    "mensagem “APROVADO” se o conceito for A, B ou C ou “REPROVADO” se o conceito\n",
    "for D ou E."
   ]
  },
  {
   "cell_type": "code",
   "execution_count": 169,
   "metadata": {},
   "outputs": [],
   "source": [
    "def nota(nota1,nota2):\n",
    "    media = (nota1+nota2)/2\n",
    "    print(nota1)\n",
    "    print(nota2)\n",
    "    if media < 4.0:\n",
    "        print(media)\n",
    "        conceito = \", conceito nota:E\"\n",
    "        print(\"Reprovado\" + conceito)\n",
    "    elif media <6:\n",
    "        print(media)\n",
    "        conceito = \", conceito nota:D\"\n",
    "        print(\"Reprovado\"+ conceito)\n",
    "    elif media<7.5:\n",
    "        print(media)\n",
    "        conceito =\", conceito nota:C\"\n",
    "        print(\"Aprovado\"+ conceito)\n",
    "    elif media<9.0:\n",
    "        print(media)\n",
    "        conceito = \", conceito nota:B\"\n",
    "        print(\"Aprovado\"+ conceito)\n",
    "    elif media<=10.0:\n",
    "        print(media)\n",
    "        conceito = \", conceito nota:A\"\n",
    "        print(\"Aprovado\" + conceito)"
   ]
  },
  {
   "cell_type": "code",
   "execution_count": 171,
   "metadata": {},
   "outputs": [
    {
     "name": "stdout",
     "output_type": "stream",
     "text": [
      "7\n",
      "8.5\n",
      "7.75\n",
      "Aprovado, conceito nota:B\n"
     ]
    }
   ],
   "source": [
    "nota(7, 8.5)"
   ]
  },
  {
   "cell_type": "markdown",
   "metadata": {},
   "source": [
    "8:Faça um Programa que peça os 3 lados de um triângulo. O programa deverá\n",
    "informar se os valores podem ser um triângulo. Indique, caso os lados formem um\n",
    "triângulo, se o mesmo é: equilátero, isósceles ou escaleno.\n",
    "Dicas:\n",
    "- Três lados formam um triângulo quando a soma de quaisquer dois lados for maior\n",
    "que o terceiro;\n",
    "- Triângulo Equilátero: três lados iguais;\n",
    "- Triângulo Isósceles: quaisquer dois lados iguais;\n",
    "- Triângulo Escaleno: três lados diferentes;"
   ]
  },
  {
   "cell_type": "code",
   "execution_count": 203,
   "metadata": {},
   "outputs": [],
   "source": [
    "def verificaTriangulo(lado1,lado2,lado3):\n",
    "    if  lado2+lado3>lado1 or lado2+lado1>lado3 or lado3+lado1+lado2:\n",
    "        if lado1==lado2 and lado1==lado3 and lado2==lado3:\n",
    "            print(\"Equilatero\")\n",
    "            flag = \"x\"\n",
    "        elif lado1==lado2 or lado1==lado3 or lado3==lado2 and flag!=x:\n",
    "            print(\"Isóceles\")\n",
    "        elif lado1!=lado2 and lado1!=lado3 and lado2!=lado3:\n",
    "            print(\"Escaleno\")\n",
    "    else:\n",
    "        print(\"Não é um triangulo\")"
   ]
  },
  {
   "cell_type": "code",
   "execution_count": 210,
   "metadata": {},
   "outputs": [
    {
     "name": "stdout",
     "output_type": "stream",
     "text": [
      "Escaleno\n"
     ]
    }
   ],
   "source": [
    "verificaTriangulo(1,2,3)"
   ]
  },
  {
   "cell_type": "markdown",
   "metadata": {},
   "source": [
    "9: Faça um programa que calcule as raízes de uma equação do segundo grau, na\n",
    "forma ax2 + bx + c. O programa deverá pedir os valores de a, b e c e fazer as\n",
    "consistências, informando ao usuário nas seguintes situações:\n",
    "- Se o usuário informar o valor de A igual a zero, a equação não é do segundo grau e\n",
    "o programa não deve fazer pedir os demais valores, sendo encerrado;\n",
    "- Se o delta calculado for negativo, a equação não possui raizes reais. Informe ao\n",
    "usuário e encerre o programa;\n",
    "- Se o delta calculado for igual a zero a equação possui apenas uma raiz real;\n",
    "informe-a ao usuário\n",
    "- Se o delta for positivo, a equação possui duas raiz reais; informe-as ao usuário;"
   ]
  },
  {
   "cell_type": "code",
   "execution_count": 242,
   "metadata": {},
   "outputs": [
    {
     "name": "stdout",
     "output_type": "stream",
     "text": [
      "Existem 2 raizes\n",
      "9\n",
      "-0.25\n",
      "-4.75\n"
     ]
    }
   ],
   "source": [
    "import math\n",
    "def formula(a,b,c):\n",
    "    delta = (b*b) -4*(a*c)\n",
    "    if a == 0:\n",
    "        print(\"Não é uma equação de segundo grau\")\n",
    "        return\n",
    "    elif delta<0:\n",
    "        print(\"Não existe raiz real\")\n",
    "        return\n",
    "    elif delta==0:\n",
    "        print(\"Só existe uma raiz real\")\n",
    "        print(delta)\n",
    "        raiz = (-b + delta*1/2)/2\n",
    "        print(raiz)\n",
    "    elif delta>0:\n",
    "        print(\"Existem 2 raizes\")\n",
    "        print(delta)\n",
    "        raiz1 = (-b + delta*1/2)/2\n",
    "        print(raiz1)\n",
    "        raiz2 = (-b - delta*1/2)/2\n",
    "        print(raiz2)\n",
    "    \n",
    "formula(2,5,2)\n"
   ]
  },
  {
   "cell_type": "markdown",
   "metadata": {},
   "source": [
    "10: Faça um Programa para um caixa eletrônico. O programa deverá perguntar ao\n",
    "usuário a valor do saque e depois informar quantas notas de cada valor serão\n",
    "fornecidas. As notas disponíveis serão as de 1, 5, 10, 50 e 100 reais. O valor mínimo é\n",
    "de 10 reais e o máximo de 600 reais. O programa não deve se preocupar com a\n",
    "quantidade de notas existentes na máquina.\n",
    "- Exemplo 1: Para sacar a quantia de 256 reais, o programa fornece duas notas de\n",
    "100, uma nota de 50, uma nota de 5 e uma nota de 1;\n",
    "- Exemplo 2: Para sacar a quantia de 399 reais, o programa fornece três notas de\n",
    "100, uma nota de 50, quatro notas de 10, uma nota de 5 e quatro notas de 1."
   ]
  },
  {
   "cell_type": "markdown",
   "metadata": {},
   "source": [
    "def saque(num):\n",
    "    x = num//100\n",
    "    num -= x*100\n",
    "    print(str(x) + \" notas de 100 reais\")\n",
    "    x = num//50\n",
    "    num -= x*50\n",
    "    print(str(x) + \" notas de 50 reais\")\n",
    "    x = num//10\n",
    "    num -= x*10\n",
    "    print(str(x) + \" notas de 10 reais\")\n",
    "    x = num//5\n",
    "    num -= x*5\n",
    "    print(str(x) + \" notas de 5 reais\")\n",
    "    x = num//1\n",
    "    num -= x*1\n",
    "    print(str(x) + \" notas de 1 reais\")\n",
    "        "
   ]
  },
  {
   "cell_type": "code",
   "execution_count": 272,
   "metadata": {},
   "outputs": [
    {
     "name": "stdout",
     "output_type": "stream",
     "text": [
      "5 notas de 100 reais\n",
      "1 notas de 50 reais\n",
      "2 notas de 10 reais\n",
      "1 notas de 5 reais\n",
      "4 notas de 1 reais\n"
     ]
    }
   ],
   "source": [
    "saque(579)"
   ]
  },
  {
   "cell_type": "markdown",
   "metadata": {},
   "source": [
    "11:Faça um programa que faça 5 perguntas para uma pessoa sobre um crime. As\n",
    "perguntas são:\n",
    "\"Telefonou para a vítima?\"\n",
    "\"Esteve no local do crime?\"\n",
    "\"Mora perto da vítima?\"\n",
    "\"Devia para a vítima?\"\n",
    "\"Já trabalhou com a vítima?\"\n",
    "O programa deve no final emitir uma classificação sobre a participação da pessoa no\n",
    "crime. Se a pessoa responder positivamente a 2 questões ela deve ser classificada\n",
    "como \"Suspeita\", entre 3 e 4 como \"Cúmplice\" e 5 como \"Assassino\". Caso contrário,\n",
    "ele será classificado como \"Inocente\"."
   ]
  },
  {
   "cell_type": "code",
   "execution_count": 37,
   "metadata": {},
   "outputs": [],
   "source": [
    "def perguntas(perg1,perg2,perg3,perg4,perg5):\n",
    "    count = 0\n",
    "    if perg1 == \"s\":\n",
    "        count = count +1\n",
    "    if perg2 == \"s\":\n",
    "        count = count +1\n",
    "    if perg3== \"s\":\n",
    "        count = count +1\n",
    "    if perg4 == \"s\":\n",
    "        count = count +1\n",
    "    if perg5 == \"s\":\n",
    "        count = count +1\n",
    "    \n",
    "    if count == 2:\n",
    "        print(\"Suspeito\")\n",
    "    if count == 3 or count == 4:\n",
    "        print(\"Cumplice\")\n",
    "    if count == 5:\n",
    "        print(\"Assassino\")\n",
    "    elif count<2:\n",
    "        print(\"inocente\")\n",
    "    \n",
    "    "
   ]
  },
  {
   "cell_type": "code",
   "execution_count": 38,
   "metadata": {},
   "outputs": [
    {
     "name": "stdout",
     "output_type": "stream",
     "text": [
      "inocente\n"
     ]
    }
   ],
   "source": [
    "perguntas(\"n\",\"n\",\"s\",\"n\",\"n\")"
   ]
  },
  {
   "cell_type": "markdown",
   "metadata": {},
   "source": [
    "12: Uma fruteira está vendendo frutas com a seguinte tabela de preços:\n",
    " Até 5 Kg Acima de 5 Kg\n",
    "Morango R$ 2,50 por Kg R$ 2,20 por Kg\n",
    "Maçã R$ 1,80 por Kg R$ 1,50 por Kg\n",
    "Se o cliente comprar mais de 8 Kg em frutas ou o valor total da compra ultrapassar\n",
    "R$ 25,00, receberá ainda um desconto de 10% sobre este total. Escreva um\n",
    "algoritmo para ler a quantidade (em Kg) de morangos e a quantidade (em Kg) de\n",
    "maças adquiridas e escreva o valor a ser pago pelo cliente."
   ]
  },
  {
   "cell_type": "code",
   "execution_count": 85,
   "metadata": {},
   "outputs": [],
   "source": [
    "def venda(morangos,maça):\n",
    "    preco1 = morangos * 2.50\n",
    "    print(preco1)\n",
    "    preco2=maça * 2.20\n",
    "    print(preco2)\n",
    "    preco= (preco1+preco2)\n",
    "    if morangos + maça > 8 or preco >= 25.0 :\n",
    "        preco = preco * 0.90\n",
    "        print(preco)\n",
    "    else:\n",
    "        print(preco)\n",
    "        \n",
    "    "
   ]
  },
  {
   "cell_type": "code",
   "execution_count": 88,
   "metadata": {},
   "outputs": [
    {
     "name": "stdout",
     "output_type": "stream",
     "text": [
      "25.0\n",
      "22.0\n",
      "42.300000000000004\n"
     ]
    }
   ],
   "source": [
    "venda(10,10)"
   ]
  },
  {
   "cell_type": "markdown",
   "metadata": {},
   "source": [
    "13: Faça um programa que peça uma nota, entre zero e dez. Mostre uma mensagem\n",
    "caso o valor seja inválido e continue pedindo até que o usuário informe um valor\n",
    "válido."
   ]
  },
  {
   "cell_type": "code",
   "execution_count": null,
   "metadata": {},
   "outputs": [],
   "source": [
    "\n",
    "    "
   ]
  },
  {
   "cell_type": "code",
   "execution_count": 1,
   "metadata": {},
   "outputs": [
    {
     "name": "stdout",
     "output_type": "stream",
     "text": [
      "Digite um numero 20\n",
      "Valor invalido\n",
      "Digite um numero 20\n",
      "Valor invalido\n",
      "Digite um numero 20\n",
      "Valor invalido\n",
      "Digite um numero 20\n",
      "Valor invalido\n",
      "Digite um numero 10\n",
      "Valor valido\n"
     ]
    }
   ],
   "source": [
    "\n",
    "x = False\n",
    "while x!=True:\n",
    "    y = input(\"Digite um numero \")\n",
    "    if int(y)>=0 and int(y)<=10:\n",
    "        print(\"Valor valido\")\n",
    "        x =True\n",
    "    else:\n",
    "        print(\"Valor invalido\")\n",
    "        x=False"
   ]
  },
  {
   "cell_type": "markdown",
   "metadata": {},
   "source": [
    "13:(Sim, dois exercicios numero 13) Faça um programa que leia e valide as seguintes informações:\n",
    "Nome: maior que 3 caracteres;\n",
    "Idade: entre 0 e 150;\n",
    "Salário: maior que zero;\n",
    "Sexo: 'f' ou 'm';\n",
    "Estado Civil: 's', 'c', 'v', 'd';"
   ]
  },
  {
   "cell_type": "code",
   "execution_count": 27,
   "metadata": {},
   "outputs": [],
   "source": [
    "def valida(nome,idade,salario,sexo,estado):\n",
    "    if len(nome) <3:\n",
    "        print(\"nome invalido\")\n",
    "    if idade < 0 or idade >150:\n",
    "        print(\"Idade invalida\")\n",
    "    if salario<0:\n",
    "        print(\"Salario invalido\")\n",
    "    if sexo != 'f' and sexo != 'm':\n",
    "        print(\"Sexo diferente do esperado\")\n",
    "    if estado !='s' and estado!='c' and estado !='v' and estado!='d':\n",
    "        print(\"Estado civil invalido\")\n",
    "    else:\n",
    "        print(nome)\n",
    "        print(idade)\n",
    "        print(salario)\n",
    "        print(sexo)\n",
    "        print(estado)"
   ]
  },
  {
   "cell_type": "code",
   "execution_count": 34,
   "metadata": {},
   "outputs": [
    {
     "name": "stdout",
     "output_type": "stream",
     "text": [
      "nome invalido\n",
      "Idade invalida\n",
      "Salario invalido\n",
      "Sexo diferente do esperado\n",
      "Estado civil invalido\n"
     ]
    }
   ],
   "source": [
    "valida(\"ka\",180,-3,\"x\",\"t\")"
   ]
  },
  {
   "cell_type": "markdown",
   "metadata": {},
   "source": [
    "14: Faça um programa que leia 5 números e informe o maior número."
   ]
  },
  {
   "cell_type": "code",
   "execution_count": 43,
   "metadata": {},
   "outputs": [
    {
     "name": "stdout",
     "output_type": "stream",
     "text": [
      "Digite o numero 0\n",
      "Digite o numero 2\n",
      "Digite o numero 2\n",
      "Digite o numero 03\n",
      "Digite o numero 4\n",
      "4\n"
     ]
    }
   ],
   "source": [
    "maior=input(\"Digite o numero \")\n",
    "for x in range(1,5):\n",
    "    y=input(\"Digite o numero \" )\n",
    "    if int(y)>int(maior):\n",
    "        maior = y\n",
    "        \n",
    "\n",
    "print(maior)\n",
    "        "
   ]
  },
  {
   "cell_type": "markdown",
   "metadata": {},
   "source": [
    "15: Faça um programa que leia 5 números e informe a soma e a média dos números."
   ]
  },
  {
   "cell_type": "code",
   "execution_count": 9,
   "metadata": {},
   "outputs": [
    {
     "name": "stdout",
     "output_type": "stream",
     "text": [
      "Digite um numero 1\n",
      "Digite um numero 2\n",
      "Digite um numero 3\n",
      "Digite um numero 4\n",
      "Digite um numero 5\n",
      "15\n",
      "3.0\n"
     ]
    }
   ],
   "source": [
    "for x in range(1,6):\n",
    "    y = input(\"Digite um numero \")\n",
    "    media = int(y) + int(media)\n",
    "\n",
    "print(media)    \n",
    "media = media / 5\n",
    "print(media)"
   ]
  },
  {
   "cell_type": "markdown",
   "metadata": {},
   "source": [
    "16: Faça um programa que imprima na tela apenas os números ímpares entre 1 e 50."
   ]
  },
  {
   "cell_type": "code",
   "execution_count": 11,
   "metadata": {},
   "outputs": [
    {
     "name": "stdout",
     "output_type": "stream",
     "text": [
      "1\n",
      "3\n",
      "5\n",
      "7\n",
      "9\n",
      "11\n",
      "13\n",
      "15\n",
      "17\n",
      "19\n",
      "21\n",
      "23\n",
      "25\n",
      "27\n",
      "29\n",
      "31\n",
      "33\n",
      "35\n",
      "37\n",
      "39\n",
      "41\n",
      "43\n",
      "45\n",
      "47\n",
      "49\n"
     ]
    }
   ],
   "source": [
    "for x in range(1,51):\n",
    "    if x % 2 ==1:\n",
    "        print(x)"
   ]
  },
  {
   "cell_type": "markdown",
   "metadata": {},
   "source": [
    "17: Desenvolva um gerador de tabuada, capaz de gerar a tabuada de qualquer\n",
    "número inteiro entre 1 a 10. O usuário deve informar de qual numero ele deseja ver\n",
    "a tabuada. A saída deve ser conforme o exemplo abaixo:\n",
    "Tabuada de 5:\n",
    "5 X 1 = 5\n",
    "5 X 2 = 10\n",
    "...\n",
    "5 X 10 = 50"
   ]
  },
  {
   "cell_type": "code",
   "execution_count": 12,
   "metadata": {},
   "outputs": [
    {
     "name": "stdout",
     "output_type": "stream",
     "text": [
      "Digite um numero 5\n",
      "5\n",
      "10\n",
      "15\n",
      "20\n",
      "25\n",
      "30\n",
      "35\n",
      "40\n",
      "45\n",
      "50\n"
     ]
    }
   ],
   "source": [
    "y = input(\"Digite um numero \")\n",
    "for x in range(1,11):\n",
    "    z = int(y) * int(x)\n",
    "    print(z)"
   ]
  },
  {
   "cell_type": "markdown",
   "metadata": {},
   "source": [
    "18: A série de Fibonacci é formada pela seqüência 1,1,2,3,5,8,13,21,34,55,... Faça um\n",
    "programa capaz de gerar a série até o n−ésimo termo."
   ]
  },
  {
   "cell_type": "code",
   "execution_count": 51,
   "metadata": {},
   "outputs": [
    {
     "name": "stdout",
     "output_type": "stream",
     "text": [
      "N-esimo termo? 20\n",
      "1\n",
      "1\n",
      "2\n",
      "3\n",
      "5\n",
      "8\n",
      "13\n",
      "21\n",
      "34\n",
      "55\n",
      "89\n",
      "144\n",
      "233\n",
      "377\n",
      "610\n",
      "987\n",
      "1597\n",
      "2584\n",
      "4181\n",
      "6765\n"
     ]
    }
   ],
   "source": [
    "termo = int (input(\"N-esimo termo? \"))\n",
    "a = 1\n",
    "b = 0\n",
    "\n",
    "for i in range(termo):\n",
    "    a, b = b, a + b\n",
    "    print (b),\n"
   ]
  },
  {
   "cell_type": "markdown",
   "metadata": {},
   "source": [
    "19: Faça um programa que calcule o fatorial de um número inteiro fornecido pelo\n",
    "usuário. Ex.: 5!=5.4.3.2.1=120"
   ]
  },
  {
   "cell_type": "code",
   "execution_count": 28,
   "metadata": {},
   "outputs": [],
   "source": [
    "def fat(n):\n",
    "    t=1\n",
    "    n=int(n)+1\n",
    "    for z in range(1,n):\n",
    "        t= int(z)*int(t)\n",
    "        z= int(z)+1\n",
    "        print (t)"
   ]
  },
  {
   "cell_type": "code",
   "execution_count": 29,
   "metadata": {},
   "outputs": [
    {
     "name": "stdout",
     "output_type": "stream",
     "text": [
      "1\n",
      "2\n",
      "6\n",
      "24\n",
      "120\n"
     ]
    }
   ],
   "source": [
    "fat(5)"
   ]
  },
  {
   "cell_type": "markdown",
   "metadata": {},
   "source": [
    "20: O Sr. Manoel Joaquim possui uma grande loja de artigos de R$ 1,99, com cerca\n",
    "de 10 caixas. Para agilizar o cálculo de quanto cada cliente deve pagar ele\n",
    "desenvolveu um tabela que contém o número de itens que o cliente comprou e ao\n",
    "lado o valor da conta. Desta forma a atendente do caixa precisa apenas contar\n",
    "quantos itens o cliente está levando e olhar na tabela de preços. Você foi contratado\n",
    "para desenvolver o programa que monta esta tabela de preços, que conterá os\n",
    "preços de 1 até 50 produtos, conforme o exemplo abaixo:"
   ]
  },
  {
   "cell_type": "code",
   "execution_count": 4,
   "metadata": {},
   "outputs": [
    {
     "name": "stdout",
     "output_type": "stream",
     "text": [
      "1.99\n",
      "3.98\n",
      "5.97\n",
      "7.96\n",
      "9.95\n",
      "11.94\n",
      "13.93\n",
      "15.92\n",
      "17.91\n",
      "19.9\n",
      "21.889999999999997\n",
      "23.879999999999995\n",
      "25.869999999999994\n",
      "27.859999999999992\n",
      "29.84999999999999\n",
      "31.83999999999999\n",
      "33.82999999999999\n",
      "35.81999999999999\n",
      "37.809999999999995\n",
      "39.8\n",
      "41.79\n",
      "43.78\n",
      "45.77\n",
      "47.760000000000005\n",
      "49.75000000000001\n",
      "51.74000000000001\n",
      "53.73000000000001\n",
      "55.72000000000001\n",
      "57.710000000000015\n",
      "59.70000000000002\n",
      "61.69000000000002\n",
      "63.68000000000002\n",
      "65.67000000000002\n",
      "67.66000000000001\n",
      "69.65\n",
      "71.64\n",
      "73.63\n",
      "75.61999999999999\n",
      "77.60999999999999\n",
      "79.59999999999998\n",
      "81.58999999999997\n",
      "83.57999999999997\n",
      "85.56999999999996\n",
      "87.55999999999996\n",
      "89.54999999999995\n",
      "91.53999999999995\n",
      "93.52999999999994\n",
      "95.51999999999994\n",
      "97.50999999999993\n",
      "99.49999999999993\n"
     ]
    }
   ],
   "source": [
    "y=1.99\n",
    "print(y)\n",
    "for x in range (1,50):\n",
    "    y = float(y)+ 1.99\n",
    "    print(y)\n",
    "    "
   ]
  },
  {
   "cell_type": "markdown",
   "metadata": {},
   "source": [
    "21: O Sr. Manoel Joaquim acaba de adquirir uma panificadora e pretende implantar\n",
    "a metodologia da tabelinha, que já é um sucesso na sua loja de 1,99. Você foi\n",
    "contratado para desenvolver o programa que monta a tabela de preços de pães, de\n",
    "1 até 50 pães, a partir do preço do pão informado pelo usuário, conforme o exemplo\n",
    "abaixo:\n",
    "Preço do pão: R$ 0.18\n",
    "Panificadora Pão de Ontem - Tabela de preços\n",
    "1 - R$ 0.18\n",
    "2 - R$ 0.36\n",
    "...\n",
    "50 - R$ 9.00"
   ]
  },
  {
   "cell_type": "code",
   "execution_count": 6,
   "metadata": {},
   "outputs": [
    {
     "name": "stdout",
     "output_type": "stream",
     "text": [
      "0.18\n",
      "0.36\n",
      "0.54\n",
      "0.72\n",
      "0.8999999999999999\n",
      "1.0799999999999998\n",
      "1.2599999999999998\n",
      "1.4399999999999997\n",
      "1.6199999999999997\n",
      "1.7999999999999996\n",
      "1.9799999999999995\n",
      "2.1599999999999997\n",
      "2.34\n",
      "2.52\n",
      "2.7\n",
      "2.8800000000000003\n",
      "3.0600000000000005\n",
      "3.2400000000000007\n",
      "3.420000000000001\n",
      "3.600000000000001\n",
      "3.780000000000001\n",
      "3.9600000000000013\n",
      "4.1400000000000015\n",
      "4.320000000000001\n",
      "4.500000000000001\n",
      "4.680000000000001\n",
      "4.86\n",
      "5.04\n",
      "5.22\n",
      "5.3999999999999995\n",
      "5.579999999999999\n",
      "5.759999999999999\n",
      "5.939999999999999\n",
      "6.119999999999998\n",
      "6.299999999999998\n",
      "6.479999999999998\n",
      "6.6599999999999975\n",
      "6.839999999999997\n",
      "7.019999999999997\n",
      "7.199999999999997\n",
      "7.379999999999996\n",
      "7.559999999999996\n",
      "7.739999999999996\n",
      "7.9199999999999955\n",
      "8.099999999999996\n",
      "8.279999999999996\n",
      "8.459999999999996\n",
      "8.639999999999995\n",
      "8.819999999999995\n",
      "8.999999999999995\n"
     ]
    }
   ],
   "source": [
    "y=0.18\n",
    "print(y)\n",
    "for x in range (1,50):\n",
    "    y = float(y)+ 0.18\n",
    "    print(y)\n",
    "    "
   ]
  },
  {
   "cell_type": "markdown",
   "metadata": {},
   "source": [
    "22: O Sr. Manoel Joaquim expandiu seus negócios para além dos negócios de 1,99 e\n",
    "agora possui uma loja de conveniências. Faça um programa que implemente uma\n",
    "caixa registradora rudimentar. O programa deverá receber um número\n",
    "desconhecido de valores referentes aos preços das mercadorias. Um valor zero deve\n",
    "ser informado pelo operador para indicar o final da compra. O programa deve então\n",
    "mostrar o total da compra e perguntar o valor em dinheiro que o cliente forneceu,\n",
    "para então calcular e mostrar o valor do troco. Após esta operação, o programa\n",
    "deverá voltar ao ponto inicial, para registrar a próxima compra. A saída deve ser\n",
    "conforme o exemplo abaixo:\n",
    "Lojas Tabajara\n",
    "Produto 1: R$ 2.20\n",
    "Produto 2: R$ 5.80\n",
    "Produto 3: R$ 0\n",
    "Total: R$ 9.00\n",
    "Dinheiro: R$ 20.00\n",
    "Troco: R$ 11.00\n",
    "..."
   ]
  },
  {
   "cell_type": "code",
   "execution_count": 3,
   "metadata": {},
   "outputs": [
    {
     "name": "stdout",
     "output_type": "stream",
     "text": [
      "Digite o valor do item 30\n",
      "30\n",
      "Digite o valor do item 30\n",
      "30\n",
      "Digite o valor do item 0\n",
      "0\n",
      "60.0\n",
      "Digite o quanto pagou 100\n",
      "40\n"
     ]
    }
   ],
   "source": [
    "soma=0\n",
    "x=10\n",
    "while x!=0:\n",
    "    x=input(\"Digite o valor do item \")\n",
    "    x = int(x)\n",
    "    soma = float(x) +float(soma)\n",
    "    print(x)\n",
    "print(soma)\n",
    "valor = input(\"Digite o quanto pagou \")\n",
    "troco = int(valor) - int(soma)\n",
    "print(troco)\n"
   ]
  },
  {
   "cell_type": "markdown",
   "metadata": {},
   "source": [
    "23: Foi feita uma estatística em cinco cidades brasileiras para coletar dados sobre\n",
    "acidentes de trânsito. Foram obtidos os seguintes dados:\n",
    "- Código da cidade;\n",
    "- Número de veículos de passeio (em 1999);\n",
    "- Número de acidentes de trânsito com vítimas (em 1999). Deseja-se saber:\n",
    "- Qual o maior e menor índice de acidentes de transito e a que cidade pertence;\n",
    "- Qual a média de veículos nas cinco cidades juntas;\n",
    "- Qual a média de acidentes de trânsito nas cidades com menos de 2.000 veículos de\n",
    "passeio.\n"
   ]
  },
  {
   "cell_type": "code",
   "execution_count": 48,
   "metadata": {},
   "outputs": [
    {
     "name": "stdout",
     "output_type": "stream",
     "text": [
      "codigo? 1\n",
      "Numero de veiculos em (1999)? 20\n",
      "Numero de acidentes com vitima? 20\n",
      "codigo? 2\n",
      "Numero de veiculos em (1999)? 20\n",
      "Numero de acidentes com vitima? 30\n",
      "codigo? 3\n",
      "Numero de veiculos em (1999)? 20\n",
      "Numero de acidentes com vitima? 30\n",
      "codigo? 4\n",
      "Numero de veiculos em (1999)? 50\n",
      "Numero de acidentes com vitima? 50\n",
      "codigo? 5\n",
      "Numero de veiculos em (1999)? 60\n",
      "Numero de acidentes com vitima? 60\n",
      "Maior:0.01% Cidade:1\n",
      "Menor:0.01% Cidade:2\n",
      "Media de Veiculos: 34.00\n",
      "Media de Acidentes: 38.00 \n"
     ]
    }
   ],
   "source": [
    "def coletaDados():\n",
    "    lista_dados = []\n",
    "    for i in range(1,6):\n",
    "        codigo = int (input(\"codigo? \"))\n",
    "        n_veiculos = int (input(\"Numero de veiculos em (1999)? \"))\n",
    "        n_acidentes = int (input(\"Numero de acidentes com vitima? \"))\n",
    "        lista_dados.append( ( codigo, n_veiculos, n_acidentes) )\n",
    "    return lista_dados\n",
    "\n",
    "\n",
    "def calculaIndice ( dados ):\n",
    "     return float ( dados[1]) / float ( dados[2] )*0.01\n",
    "\n",
    "def obterIndicesDeAcidentes( dadosColetados ):\n",
    "    maiorIndice = dadosColetados[0]\n",
    "    menorIndice = dadosColetados[0]\n",
    "    for dado in dadosColetados:\n",
    "        if calculaIndice(dado) > calculaIndice(maiorIndice):\n",
    "            maiorIndice = dado\n",
    "        if calculaIndice (dado) < calculaIndice(menorIndice):\n",
    "            menorIndice = dado\n",
    "    return (menorIndice, maiorIndice)\n",
    "\n",
    "def mostraIndices( indices ):\n",
    "    menorIndice, maiorIndice = indices[0] , indices[1]\n",
    "    print (\"Maior:%.2f%% Cidade:%d\"%(calculaIndice(maiorIndice),maiorIndice[0]))\n",
    "    print (\"Menor:%.2f%% Cidade:%d\"%(calculaIndice(menorIndice),menorIndice[0]))\n",
    "\n",
    "def mediaDeVeiculos (listaDeDados):\n",
    "    soma_veiculos = 0\n",
    "    quantidade_de_dados = len (listaDeDados)\n",
    "    for dados in listaDeDados:\n",
    "        soma_veiculos += dados[1]\n",
    "    return float(soma_veiculos)/float(quantidade_de_dados)\n",
    "\n",
    "def mediaDeAcidentes( listaDeDados ):\n",
    "    soma_acidentes = 0\n",
    "    quantidade_de_dados = 0\n",
    "    for dados in listaDeDados:\n",
    "        if dados[1] < 2000:\n",
    "            soma_acidentes += dados[2]\n",
    "            quantidade_de_dados +=1\n",
    "    return float (soma_acidentes) / float (quantidade_de_dados)\n",
    "\n",
    "def main():\n",
    "    listaDeDados = coletaDados()\n",
    "    mostraIndices ( obterIndicesDeAcidentes( listaDeDados ) )\n",
    "    print (\"Media de Veiculos: %.2f\" % mediaDeVeiculos (listaDeDados ))\n",
    "    print (\"Media de Acidentes: %.2f \" % mediaDeAcidentes(listaDeDados))\n",
    "    \n",
    "main()"
   ]
  },
  {
   "cell_type": "markdown",
   "metadata": {},
   "source": [
    "24: Faça um programa que receba o valor de uma dívida e mostre uma tabela com\n",
    "os seguintes dados: valor da dívida, valor dos juros, quantidade de parcelas e valor\n",
    "da parcela.\n",
    "Os juros e a quantidade de parcelas seguem a tabela abaixo:\n",
    "Quantidade de Parcelas % de Juros sobre o valor inicial da dívida\n",
    "1 0\n",
    "3 10\n",
    "6 15\n",
    "9 20\n",
    "12 25\n",
    "Exemplo de saída do programa:\n",
    "Valor da Dívida Valor dos Juros Quantidade de Parcelas Valor da Parcela\n",
    "R$ 1.000,00 0 1 R$ 1.000,00\n",
    "R$ 1.100,00 100 3 R$ 366,00\n",
    "R$ 1.150,00 150 6 R$ 191,67"
   ]
  },
  {
   "cell_type": "code",
   "execution_count": 57,
   "metadata": {},
   "outputs": [
    {
     "name": "stdout",
     "output_type": "stream",
     "text": [
      "Valor da Divida? 2000\n",
      "Divida:R$ 2000.00 Juros:R$ 0.00 Parcelas: 1 Valor Parcela:R$ 2000.00\n",
      "Divida:R$ 2200.00 Juros:R$ 200.00 Parcelas: 3 Valor Parcela:R$ 733.33\n",
      "Divida:R$ 2300.00 Juros:R$ 300.00 Parcelas: 6 Valor Parcela:R$ 383.33\n",
      "Divida:R$ 2400.00 Juros:R$ 400.00 Parcelas: 9 Valor Parcela:R$ 266.67\n",
      "Divida:R$ 2500.00 Juros:R$ 500.00 Parcelas:12 Valor Parcela:R$ 208.33\n"
     ]
    }
   ],
   "source": [
    "def calculaJuros( valor, parcela):\n",
    "    juros = 0\n",
    "    if parcela == 3:\n",
    "        juros = valor * 0.10\n",
    "    elif parcela == 6:\n",
    "        juros = valor * 0.15\n",
    "    elif parcela == 9:\n",
    "        juros = valor * 0.20\n",
    "    elif parcela == 12:\n",
    "         juros = valor * 0.25\n",
    "    return juros\n",
    "\n",
    "def calculaParcela( valor, parcela):\n",
    "    valor_parcela = valor\n",
    "    if parcela == 3:\n",
    "        valor_parcela = ( valor + calculaJuros(valor,parcela)) / 3\n",
    "    elif parcela == 6:\n",
    "        valor_parcela = ( valor + calculaJuros(valor,parcela) ) / 6\n",
    "    elif parcela == 9:\n",
    "        valor_parcela = ( valor + calculaJuros(valor, parcela) ) / 9\n",
    "    elif parcela == 12:\n",
    "        valor_parcela = ( valor + calculaJuros(valor,parcela) ) / 12\n",
    "    return valor_parcela\n",
    "\n",
    "def mostraLinha(i):\n",
    "    global valor\n",
    "    juros = calculaJuros(valor,3*i)\n",
    "    parcela = calculaParcela(valor,3*i)\n",
    "    linha = \"Divida:R$ %.2f Juros:R$ %.2f Parcelas:%2d Valor Parcela:R$ %.2f\"\n",
    "    if i == 0:\n",
    "        print (linha % (valor+juros ,juros,1,parcela))\n",
    "    else:\n",
    "        print (linha % (valor+juros,juros,3*i, parcela))\n",
    "        \n",
    "def main():\n",
    "    global valor\n",
    "    valor = float (input(\"Valor da Divida? \"))\n",
    "    for i in range(0,5):\n",
    "        mostraLinha(i)\n",
    "\n",
    "main()\n"
   ]
  },
  {
   "cell_type": "markdown",
   "metadata": {},
   "source": [
    "25: Faça um programa que mostre os n termos da Série a seguir:\n",
    " S = 1/1 + 2/3 + 3/5 + 4/7 + 5/9 + ... + n/m.\n",
    "Imprima no final a soma da série.\n"
   ]
  },
  {
   "cell_type": "code",
   "execution_count": 12,
   "metadata": {},
   "outputs": [],
   "source": [
    "def soma(n,m):\n",
    "    z= int(n)+1\n",
    "    vl1=1\n",
    "    vl2=1\n",
    "    media=0\n",
    "    for x in range(1,z):\n",
    "        media=float(vl1)/float(vl2) + float(media)\n",
    "        vl1 = float(vl1)+1\n",
    "        vl2 = float(vl2)+2\n",
    "        print(media)\n",
    "    "
   ]
  },
  {
   "cell_type": "code",
   "execution_count": 13,
   "metadata": {},
   "outputs": [
    {
     "name": "stdout",
     "output_type": "stream",
     "text": [
      "1.0\n",
      "1.6666666666666665\n",
      "2.2666666666666666\n",
      "2.838095238095238\n",
      "3.393650793650793\n"
     ]
    }
   ],
   "source": [
    "soma(5,9)"
   ]
  },
  {
   "cell_type": "code",
   "execution_count": null,
   "metadata": {},
   "outputs": [],
   "source": []
  }
 ],
 "metadata": {
  "kernelspec": {
   "display_name": "Python 3",
   "language": "python",
   "name": "python3"
  },
  "language_info": {
   "codemirror_mode": {
    "name": "ipython",
    "version": 3
   },
   "file_extension": ".py",
   "mimetype": "text/x-python",
   "name": "python",
   "nbconvert_exporter": "python",
   "pygments_lexer": "ipython3",
   "version": "3.6.4"
  }
 },
 "nbformat": 4,
 "nbformat_minor": 2
}
